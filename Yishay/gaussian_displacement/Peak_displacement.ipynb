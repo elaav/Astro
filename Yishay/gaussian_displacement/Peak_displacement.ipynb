{
 "cells": [
  {
   "cell_type": "markdown",
   "metadata": {},
   "source": [
    "### Fit a Gaussian curve for the combined signal of a BAO-like gaussian, and a Ca H&K-like gaussian"
   ]
  },
  {
   "cell_type": "code",
   "execution_count": 15,
   "metadata": {
    "collapsed": false
   },
   "outputs": [],
   "source": [
    "import matplotlib.pyplot as plt\n",
    "import numpy as np\n",
    "import lmfit\n",
    "from collections import namedtuple\n",
    "import mock"
   ]
  },
  {
   "cell_type": "markdown",
   "metadata": {},
   "source": [
    "The Gaussian fit function takes 3 parameters:\n",
    "* center along the $x$-axis\n",
    "* peak height\n",
    "* width in standard deviations\n",
    "\n",
    "and additional 2 for the background signal:\n",
    "* an offset along the $y$-axis\n",
    "* an arbitrary slope "
   ]
  },
  {
   "cell_type": "code",
   "execution_count": 16,
   "metadata": {
    "collapsed": false
   },
   "outputs": [],
   "source": [
    "params = lmfit.Parameters()\n",
    "params.add('x_offset', 0., min=-5, max=5)\n",
    "params.add('height', 0., min=0, max=5)\n",
    "params.add('width', 1.5, min=0, max=5)\n",
    "params.add('y_offset', 0., min=-5, max=5)\n",
    "params.add('slope', 0, min=-0.1, max=0.1)"
   ]
  },
  {
   "cell_type": "code",
   "execution_count": 17,
   "metadata": {
    "collapsed": false
   },
   "outputs": [],
   "source": [
    "def fit_function(params, data, x):\n",
    "    v = params.valuesdict()\n",
    "    y = np.exp(- ((x - v['x_offset'])/v['width'])**2)*v['height'] + v['y_offset'] + v['slope']*x\n",
    "    diff = y - data\n",
    "    return diff"
   ]
  },
  {
   "cell_type": "markdown",
   "metadata": {},
   "source": [
    "Set up fixed values:"
   ]
  },
  {
   "cell_type": "code",
   "execution_count": 18,
   "metadata": {
    "collapsed": false
   },
   "outputs": [],
   "source": [
    "x = np.linspace(-5, 5, 501)\n",
    "y = np.exp(-x**2)\n",
    "relative_amplitude = 1./20\n",
    "# 4 Mpc vs roughly 20 Mpc for the BAO signal width\n",
    "width = 4./20"
   ]
  },
  {
   "cell_type": "markdown",
   "metadata": {},
   "source": [
    "* All $x$ values have units of $\\sigma$ of the BAO gaussian"
   ]
  },
  {
   "cell_type": "markdown",
   "metadata": {},
   "source": [
    "### An example displacement of 1.5$\\sigma$"
   ]
  },
  {
   "cell_type": "code",
   "execution_count": 19,
   "metadata": {
    "collapsed": true
   },
   "outputs": [],
   "source": [
    "displacement = 1.5\n",
    "y_pert = np.exp(-((x-displacement)/width)**2)*relative_amplitude"
   ]
  },
  {
   "cell_type": "code",
   "execution_count": 20,
   "metadata": {
    "collapsed": false
   },
   "outputs": [],
   "source": [
    "# The default LM method did not work well here:\n",
    "fit_result = lmfit.minimize(fit_function, params, method='least_squares', kws={'data': y+y_pert, 'x': x})"
   ]
  },
  {
   "cell_type": "code",
   "execution_count": 21,
   "metadata": {
    "collapsed": false
   },
   "outputs": [
    {
     "data": {
      "text/plain": [
       "Parameters([('x_offset',\n",
       "             <Parameter 'x_offset', 0.0044664544363222465, bounds=[-5:5]>),\n",
       "            ('height',\n",
       "             <Parameter 'height', 0.99514270189154963, bounds=[0:5]>),\n",
       "            ('width', <Parameter 'width', 1.0112205942609684, bounds=[0:5]>),\n",
       "            ('y_offset',\n",
       "             <Parameter 'y_offset', 0.00065294327494549856, bounds=[-5:5]>),\n",
       "            ('slope',\n",
       "             <Parameter 'slope', 0.00022210892117001659, bounds=[-0.1:0.1]>)])"
      ]
     },
     "execution_count": 21,
     "metadata": {},
     "output_type": "execute_result"
    }
   ],
   "source": [
    "fit_result.params"
   ]
  },
  {
   "cell_type": "code",
   "execution_count": 22,
   "metadata": {
    "collapsed": false
   },
   "outputs": [
    {
     "data": {
      "image/png": "[encoded data removed]",
      "text/plain": [
       "<matplotlib.figure.Figure at 0x7f5405769cf8>"
      ]
     },
     "metadata": {},
     "output_type": "display_data"
    }
   ],
   "source": [
    "plt.plot(x,y+y_pert)\n",
    "plt.plot(x,fit_function(fit_result.params, x*0, x))\n",
    "plt.xlabel('$x[\\sigma]$')\n",
    "plt.ylabel('Amplitude')\n",
    "plt.show()"
   ]
  },
  {
   "cell_type": "markdown",
   "metadata": {},
   "source": [
    "### Plot the apparent displacement of the BAO signal vs. the 'ISM line' displacement"
   ]
  },
  {
   "cell_type": "code",
   "execution_count": 23,
   "metadata": {
    "collapsed": true
   },
   "outputs": [],
   "source": [
    "def f(displacement):\n",
    "    y_pert = np.exp(-((x-displacement)/width)**2)*relative_amplitude\n",
    "    fit_result = lmfit.minimize(fit_function, params, method='least_squares', kws={'data': y+y_pert, 'x': x})\n",
    "    return fit_result.params['x_offset']\n",
    "    \n",
    "\n",
    "perturbation_displacement = np.linspace(0,4,100)\n",
    "apparent_displacement = np.array([f(x) for x in perturbation_displacement])"
   ]
  },
  {
   "cell_type": "code",
   "execution_count": 24,
   "metadata": {
    "collapsed": false
   },
   "outputs": [
    {
     "data": {
      "image/png": "[encoded data removed]",
      "text/plain": [
       "<matplotlib.figure.Figure at 0x7f54056bfdd8>"
      ]
     },
     "metadata": {},
     "output_type": "display_data"
    }
   ],
   "source": [
    "plt.plot(perturbation_displacement, apparent_displacement)\n",
    "plt.xlabel('Perturbation displacement $[\\sigma]$')\n",
    "plt.ylabel('Apparent BAO displacement $[\\sigma]$')\n",
    "plt.show()"
   ]
  },
  {
   "cell_type": "markdown",
   "metadata": {},
   "source": [
    "The peak occurs at:"
   ]
  },
  {
   "cell_type": "code",
   "execution_count": 25,
   "metadata": {
    "collapsed": false
   },
   "outputs": [],
   "source": [
    "max_pos = np.argmax(apparent_displacement)"
   ]
  },
  {
   "cell_type": "code",
   "execution_count": 26,
   "metadata": {
    "collapsed": false
   },
   "outputs": [
    {
     "data": {
      "text/latex": [
       "The maximum displacement of the apparent peak happens when the perturbation is at: $x=0.73\\,\\sigma$"
      ],
      "text/plain": [
       "<IPython.core.display.Latex object>"
      ]
     },
     "execution_count": 26,
     "metadata": {},
     "output_type": "execute_result"
    }
   ],
   "source": [
    "from IPython.display import Latex\n",
    "Latex('The maximum displacement of the apparent peak happens when the perturbation is at: ' \n",
    "      '$x={:.2}\\,\\sigma$'.format(perturbation_displacement[max_pos]))"
   ]
  },
  {
   "cell_type": "code",
   "execution_count": 41,
   "metadata": {
    "collapsed": false
   },
   "outputs": [
    {
     "data": {
      "text/latex": [
       "The maximum shift in the peak position is: $y=0.012\\,\\sigma \\approx 1.2\\%$"
      ],
      "text/plain": [
       "<IPython.core.display.Latex object>"
      ]
     },
     "execution_count": 41,
     "metadata": {},
     "output_type": "execute_result"
    }
   ],
   "source": [
    "max_apparent_displacement = apparent_displacement[max_pos]\n",
    "Latex('The maximum shift in the peak position is: '\n",
    "      r'$y={0:.2}\\,\\sigma \\approx {1:.2}\\%$'.format(\n",
    "        max_apparent_displacement, max_apparent_displacement*100))"
   ]
  },
  {
   "cell_type": "code",
   "execution_count": 52,
   "metadata": {
    "collapsed": false
   },
   "outputs": [
    {
     "data": {
      "text/latex": [
       "Shift relative to the position of the BAO peak: $0.24\\%$"
      ],
      "text/plain": [
       "<IPython.core.display.Latex object>"
      ]
     },
     "execution_count": 52,
     "metadata": {},
     "output_type": "execute_result"
    }
   ],
   "source": [
    "Latex('Shift relative to the position of the BAO peak: '\n",
    "      r'${:.2}\\%$'.format(max_apparent_displacement*100 * 20. / 100.))"
   ]
  }
 ],
 "metadata": {
  "kernelspec": {
   "display_name": "Python [conda root]",
   "language": "python",
   "name": "conda-root-py"
  },
  "language_info": {
   "codemirror_mode": {
    "name": "ipython",
    "version": 3
   },
   "file_extension": ".py",
   "mimetype": "text/x-python",
   "name": "python",
   "nbconvert_exporter": "python",
   "pygments_lexer": "ipython3",
   "version": "3.5.2"
  }
 },
 "nbformat": 4,
 "nbformat_minor": 1
}
